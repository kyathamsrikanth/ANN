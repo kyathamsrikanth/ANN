{
 "cells": [
  {
   "cell_type": "code",
   "execution_count": 1,
   "metadata": {},
   "outputs": [
    {
     "name": "stderr",
     "output_type": "stream",
     "text": [
      "Using TensorFlow backend.\n"
     ]
    },
    {
     "name": "stdout",
     "output_type": "stream",
     "text": [
      "W&B Run: https://app.wandb.ai/univai-ss2019/mnist-logistic-ann/runs/l3zisgij\n",
      "Call `%%wandb` in the cell containing your training loop to display live results.\n",
      "WARNING:tensorflow:From /opt/conda/lib/python3.7/site-packages/tensorflow/python/framework/op_def_library.py:263: colocate_with (from tensorflow.python.framework.ops) is deprecated and will be removed in a future version.\n",
      "Instructions for updating:\n",
      "Colocations handled automatically by placer.\n"
     ]
    },
    {
     "name": "stderr",
     "output_type": "stream",
     "text": [
      "wandb: Wandb version 0.8.1 is available!  To upgrade, please run:\n",
      "wandb:  $ pip install wandb --upgrade\n"
     ]
    },
    {
     "name": "stdout",
     "output_type": "stream",
     "text": [
      "_________________________________________________________________\n",
      "Layer (type)                 Output Shape              Param #   \n",
      "=================================================================\n",
      "flatten_1 (Flatten)          (None, 784)               0         \n",
      "_________________________________________________________________\n",
      "dense_1 (Dense)              (None, 10)                7850      \n",
      "=================================================================\n",
      "Total params: 7,850\n",
      "Trainable params: 7,850\n",
      "Non-trainable params: 0\n",
      "_________________________________________________________________\n",
      "WARNING:tensorflow:From /opt/conda/lib/python3.7/site-packages/tensorflow/python/ops/math_ops.py:3066: to_int32 (from tensorflow.python.ops.math_ops) is deprecated and will be removed in a future version.\n",
      "Instructions for updating:\n",
      "Use tf.cast instead.\n",
      "Train on 60000 samples, validate on 10000 samples\n",
      "Epoch 1/10\n",
      "60000/60000 [==============================] - 3s 48us/step - loss: 8.0965 - acc: 0.4926 - val_loss: 7.3989 - val_acc: 0.5386\n",
      "Epoch 2/10\n",
      "60000/60000 [==============================] - 3s 47us/step - loss: 6.6927 - acc: 0.5814 - val_loss: 6.0423 - val_acc: 0.6225\n",
      "Epoch 3/10\n",
      "60000/60000 [==============================] - 3s 46us/step - loss: 5.9775 - acc: 0.6266 - val_loss: 5.7808 - val_acc: 0.6394\n",
      "Epoch 4/10\n",
      "60000/60000 [==============================] - 3s 46us/step - loss: 5.8970 - acc: 0.6318 - val_loss: 6.1381 - val_acc: 0.6169\n",
      "Epoch 5/10\n",
      "60000/60000 [==============================] - 3s 46us/step - loss: 5.8083 - acc: 0.6373 - val_loss: 5.7560 - val_acc: 0.6411\n",
      "Epoch 6/10\n",
      "60000/60000 [==============================] - 3s 46us/step - loss: 5.7530 - acc: 0.6412 - val_loss: 5.5868 - val_acc: 0.6519\n",
      "Epoch 7/10\n",
      "60000/60000 [==============================] - 3s 46us/step - loss: 5.7475 - acc: 0.6420 - val_loss: 5.6460 - val_acc: 0.6481\n",
      "Epoch 8/10\n",
      "60000/60000 [==============================] - 3s 46us/step - loss: 5.7783 - acc: 0.6398 - val_loss: 5.5805 - val_acc: 0.6529\n",
      "Epoch 9/10\n",
      "60000/60000 [==============================] - 3s 46us/step - loss: 5.7367 - acc: 0.6426 - val_loss: 5.8579 - val_acc: 0.6348\n",
      "Epoch 10/10\n",
      "60000/60000 [==============================] - 3s 47us/step - loss: 5.4457 - acc: 0.6607 - val_loss: 4.5702 - val_acc: 0.7146\n"
     ]
    },
    {
     "data": {
      "text/plain": [
       "<keras.callbacks.History at 0x7fc2df700e48>"
      ]
     },
     "execution_count": 1,
     "metadata": {},
     "output_type": "execute_result"
    }
   ],
   "source": [
    "from keras.datasets import mnist\n",
    "from keras.models import Sequential\n",
    "from keras.layers import Dense, Flatten\n",
    "# taken from lukas/ml-class\n",
    "from keras.utils import to_categorical\n",
    "\n",
    "import wandb\n",
    "from wandb.keras import WandbCallback\n",
    "\n",
    "# logging code\n",
    "run = wandb.init()\n",
    "config = run.config\n",
    "\n",
    "# load data\n",
    "(X_train, y_train), (X_test, y_test) = mnist.load_data()\n",
    "img_width = X_train.shape[1]\n",
    "img_height = X_train.shape[2]\n",
    "\n",
    "#EXERCISE: Normalize, keep to 32 bits, change lr, batch size\n",
    "\n",
    "\n",
    "# one hot encode outputs\n",
    "y_train = to_categorical(y_train)\n",
    "y_test = to_categorical(y_test)\n",
    "labels = range(10)\n",
    "\n",
    "num_classes = y_train.shape[1]\n",
    "\n",
    "# create model\n",
    "model = Sequential()\n",
    "model.add(Flatten(input_shape=(img_width, img_height)))\n",
    "model.add(Dense(num_classes, activation='softmax'))\n",
    "model.compile(loss='categorical_crossentropy', optimizer='adam',\n",
    "              metrics=['accuracy'])\n",
    "model.summary()\n",
    "# Fit the model\n",
    "model.fit(X_train, y_train, epochs=10, validation_data=(X_test, y_test),\n",
    "          callbacks=[WandbCallback(data_type=\"image\", labels=labels, save_model=False)])\n"
   ]
  },
  {
   "cell_type": "code",
   "execution_count": null,
   "metadata": {},
   "outputs": [],
   "source": [
    "\n"
   ]
  }
 ],
 "metadata": {
  "kernelspec": {
   "display_name": "Python 3",
   "language": "python",
   "name": "python3"
  },
  "language_info": {
   "codemirror_mode": {
    "name": "ipython",
    "version": 3
   },
   "file_extension": ".py",
   "mimetype": "text/x-python",
   "name": "python",
   "nbconvert_exporter": "python",
   "pygments_lexer": "ipython3",
   "version": "3.7.3"
  }
 },
 "nbformat": 4,
 "nbformat_minor": 2
}
