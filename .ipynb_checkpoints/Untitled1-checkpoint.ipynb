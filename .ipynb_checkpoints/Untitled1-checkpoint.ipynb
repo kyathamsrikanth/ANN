{
 "cells": [
  {
   "cell_type": "code",
   "execution_count": 1,
   "metadata": {},
   "outputs": [
    {
     "name": "stderr",
     "output_type": "stream",
     "text": [
      "Using TensorFlow backend.\n"
     ]
    },
    {
     "name": "stdout",
     "output_type": "stream",
     "text": [
      "W&B Run: https://app.wandb.ai/univai-ss2019/mnist-logistic-ann/runs/dfv17zjo\n",
      "Call `%%wandb` in the cell containing your training loop to display live results.\n",
      "WARNING:tensorflow:From /opt/conda/lib/python3.7/site-packages/tensorflow/python/framework/op_def_library.py:263: colocate_with (from tensorflow.python.framework.ops) is deprecated and will be removed in a future version.\n",
      "Instructions for updating:\n",
      "Colocations handled automatically by placer.\n",
      "_________________________________________________________________\n",
      "Layer (type)                 Output Shape              Param #   \n",
      "=================================================================\n",
      "flatten_1 (Flatten)          (None, 784)               0         \n",
      "_________________________________________________________________\n",
      "dense_1 (Dense)              (None, 100)               78500     \n",
      "_________________________________________________________________\n",
      "dense_2 (Dense)              (None, 10)                1010      \n",
      "=================================================================\n",
      "Total params: 79,510\n",
      "Trainable params: 79,510\n",
      "Non-trainable params: 0\n",
      "_________________________________________________________________\n"
     ]
    },
    {
     "name": "stderr",
     "output_type": "stream",
     "text": [
      "wandb: Wandb version 0.8.1 is available!  To upgrade, please run:\n",
      "wandb:  $ pip install wandb --upgrade\n"
     ]
    },
    {
     "name": "stdout",
     "output_type": "stream",
     "text": [
      "WARNING:tensorflow:From /opt/conda/lib/python3.7/site-packages/tensorflow/python/ops/math_ops.py:3066: to_int32 (from tensorflow.python.ops.math_ops) is deprecated and will be removed in a future version.\n",
      "Instructions for updating:\n",
      "Use tf.cast instead.\n",
      "Train on 60000 samples, validate on 10000 samples\n",
      "Epoch 1/20\n",
      "60000/60000 [==============================] - 5s 89us/step - loss: 10.2686 - acc: 0.3621 - val_loss: 9.8026 - val_acc: 0.3908\n",
      "Epoch 2/20\n",
      "60000/60000 [==============================] - 5s 86us/step - loss: 9.8444 - acc: 0.3888 - val_loss: 9.8677 - val_acc: 0.3876\n",
      "Epoch 3/20\n",
      "60000/60000 [==============================] - 5s 86us/step - loss: 9.7821 - acc: 0.3929 - val_loss: 9.7287 - val_acc: 0.3963\n",
      "Epoch 4/20\n",
      "60000/60000 [==============================] - 5s 88us/step - loss: 9.8123 - acc: 0.3910 - val_loss: 9.6996 - val_acc: 0.3982\n",
      "Epoch 5/20\n",
      "60000/60000 [==============================] - 5s 87us/step - loss: 9.6942 - acc: 0.3985 - val_loss: 9.6645 - val_acc: 0.4003\n",
      "Epoch 6/20\n",
      "60000/60000 [==============================] - 5s 85us/step - loss: 9.7329 - acc: 0.3960 - val_loss: 9.7480 - val_acc: 0.3951\n",
      "Epoch 7/20\n",
      "60000/60000 [==============================] - 5s 87us/step - loss: 9.6652 - acc: 0.4002 - val_loss: 9.7452 - val_acc: 0.3952\n",
      "Epoch 8/20\n",
      "60000/60000 [==============================] - 5s 85us/step - loss: 9.6708 - acc: 0.3999 - val_loss: 9.8046 - val_acc: 0.3917\n",
      "Epoch 9/20\n",
      "60000/60000 [==============================] - 5s 87us/step - loss: 9.6850 - acc: 0.3991 - val_loss: 9.6863 - val_acc: 0.3990\n",
      "Epoch 10/20\n",
      "60000/60000 [==============================] - 5s 86us/step - loss: 9.6953 - acc: 0.3984 - val_loss: 9.7088 - val_acc: 0.3976\n",
      "Epoch 11/20\n",
      "60000/60000 [==============================] - 5s 88us/step - loss: 9.6578 - acc: 0.4008 - val_loss: 9.7132 - val_acc: 0.3973\n",
      "Epoch 12/20\n",
      "60000/60000 [==============================] - 5s 86us/step - loss: 9.6405 - acc: 0.4018 - val_loss: 9.6262 - val_acc: 0.4026\n",
      "Epoch 13/20\n",
      "60000/60000 [==============================] - 5s 85us/step - loss: 9.6561 - acc: 0.4008 - val_loss: 9.8385 - val_acc: 0.3896\n",
      "Epoch 14/20\n",
      "60000/60000 [==============================] - 7s 125us/step - loss: 9.6688 - acc: 0.4000 - val_loss: 9.4633 - val_acc: 0.4123\n",
      "Epoch 15/20\n",
      "60000/60000 [==============================] - 10s 174us/step - loss: 8.7024 - acc: 0.4598 - val_loss: 8.4131 - val_acc: 0.4779\n",
      "Epoch 16/20\n",
      "60000/60000 [==============================] - 10s 168us/step - loss: 8.5026 - acc: 0.4722 - val_loss: 8.5297 - val_acc: 0.4708\n",
      "Epoch 17/20\n",
      "60000/60000 [==============================] - 10s 173us/step - loss: 8.4479 - acc: 0.4756 - val_loss: 8.3224 - val_acc: 0.4836\n",
      "Epoch 18/20\n",
      "60000/60000 [==============================] - 11s 178us/step - loss: 8.4256 - acc: 0.4771 - val_loss: 8.3643 - val_acc: 0.4810\n",
      "Epoch 19/20\n",
      "60000/60000 [==============================] - 10s 168us/step - loss: 8.1139 - acc: 0.4962 - val_loss: 7.6620 - val_acc: 0.5238\n",
      "Epoch 20/20\n",
      "60000/60000 [==============================] - 10s 169us/step - loss: 7.3917 - acc: 0.5409 - val_loss: 7.0269 - val_acc: 0.5640\n"
     ]
    },
    {
     "data": {
      "text/plain": [
       "<keras.callbacks.History at 0x7fe334a4a828>"
      ]
     },
     "execution_count": 1,
     "metadata": {},
     "output_type": "execute_result"
    }
   ],
   "source": [
    "import numpy as np\n",
    "from keras.datasets import mnist\n",
    "from keras.models import Sequential\n",
    "from keras.layers import Dense, Flatten, Dropout\n",
    "from keras.utils import np_utils\n",
    "from keras.callbacks import Callback\n",
    "import json\n",
    "\n",
    "from wandb.keras import WandbCallback\n",
    "import wandb\n",
    "\n",
    "run = wandb.init()\n",
    "config = run.config\n",
    "config.optimizer = \"adam\"\n",
    "config.epochs = 20\n",
    "config.hidden_nodes = 100\n",
    "\n",
    "# load data\n",
    "(X_train, y_train), (X_test, y_test) = mnist.load_data()\n",
    "img_width = X_train.shape[1]\n",
    "img_height = X_train.shape[2]\n",
    "\n",
    "#X_train = X_train.astype('float32')\n",
    "#X_train /= 255.\n",
    "#X_test = X_test.astype('float32')\n",
    "#X_test /= 255.\n",
    "\n",
    "# Normalize, change learning rate, play with layer size, batchsize\n",
    "\n",
    "# one hot encode outputs\n",
    "y_train = np_utils.to_categorical(y_train)\n",
    "y_test = np_utils.to_categorical(y_test)\n",
    "labels = range(10)\n",
    "\n",
    "num_classes = y_train.shape[1]\n",
    "\n",
    "\n",
    "# create model\n",
    "model = Sequential()\n",
    "model.add(Flatten(input_shape=(img_width, img_height)))\n",
    "model.add(Dense(config.hidden_nodes, activation='relu'))\n",
    "model.add(Dense(num_classes, activation='softmax'))\n",
    "model.compile(loss='categorical_crossentropy', optimizer=config.optimizer,\n",
    "              metrics=['accuracy'])\n",
    "model.summary()\n",
    "# Fit the model\n",
    "model.fit(X_train, y_train, validation_data=(X_test, y_test),\n",
    "          epochs=config.epochs,\n",
    "          callbacks=[WandbCallback(data_type=\"image\", labels=labels)])\n"
   ]
  },
  {
   "cell_type": "code",
   "execution_count": null,
   "metadata": {},
   "outputs": [],
   "source": []
  }
 ],
 "metadata": {
  "kernelspec": {
   "display_name": "Python 3",
   "language": "python",
   "name": "python3"
  },
  "language_info": {
   "codemirror_mode": {
    "name": "ipython",
    "version": 3
   },
   "file_extension": ".py",
   "mimetype": "text/x-python",
   "name": "python",
   "nbconvert_exporter": "python",
   "pygments_lexer": "ipython3",
   "version": "3.7.3"
  }
 },
 "nbformat": 4,
 "nbformat_minor": 2
}
